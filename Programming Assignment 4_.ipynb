{
 "cells": [
  {
   "cell_type": "code",
   "execution_count": 10,
   "id": "3923989f",
   "metadata": {},
   "outputs": [],
   "source": [
    "import pandas as pd\n",
    "import numpy as np\n",
    "import matplotlib.pyplot as plt\n",
    "import xml.etree.ElementTree as ET\n",
    "from pathlib import Path\n",
    "from PIL import Image\n",
    "import os\n",
    "import random\n",
    "from skimage import io, color, filters, exposure\n",
    "import math\n",
    "from sklearn.preprocessing import StandardScaler\n",
    "from sklearn.model_selection import train_test_split\n",
    "from sklearn.decomposition import PCA\n",
    "from sklearn.cluster import KMeans\n",
    "from sklearn.cluster import BisectingKMeans\n",
    "from sklearn.cluster import SpectralClustering\n",
    "from sklearn.cluster import DBSCAN\n",
    "from sklearn.cluster import AgglomerativeClustering\n",
    "from sklearn.metrics import fowlkes_mallows_score\n",
    "from sklearn.metrics import silhouette_score\n",
    "import warnings\n",
    "warnings.filterwarnings('ignore')"
   ]
  },
  {
   "cell_type": "markdown",
   "id": "887f5090",
   "metadata": {},
   "source": [
    "Feature Extraction"
   ]
  },
  {
   "cell_type": "code",
   "execution_count": 6,
   "id": "00ac5137",
   "metadata": {},
   "outputs": [],
   "source": [
    "CWD = os.path.abspath(os.getcwd())\n",
    "anotations = os.path.join(CWD, 'annotation')\n",
    "images = os.path.join(CWD, 'images')\n",
    "final_images = os.path.join(CWD, 'Final_Images')\n",
    "\n",
    "\n",
    "classes = ['n02113624-toy_poodle', 'n02093859-Kerry_blue_terrier', 'n02108422-bull_mastiff', 'n02085620-Chihuahua']\n",
    "labels = ['toy_poodle', 'Kerry_blue_terrier', 'bull_mastiff', 'Chihuahua']"
   ]
  },
  {
   "cell_type": "code",
   "execution_count": 7,
   "id": "cbf941df",
   "metadata": {},
   "outputs": [],
   "source": [
    "def get_bounding_boxes(annot):\n",
    "    xml = annot\n",
    "    tree = ET.parse(xml)\n",
    "    root = tree.getroot()\n",
    "    objects = root.findall('object')\n",
    "    bbox = []\n",
    "    for o in objects:\n",
    "        bndbox = o.find('bndbox')\n",
    "        xmin = int(bndbox.find('xmin').text)\n",
    "        ymin = int(bndbox.find('ymin').text)\n",
    "        xmax = int(bndbox.find('xmax').text)\n",
    "        ymax = int(bndbox.find('ymax').text)\n",
    "        bbox.append((xmin,ymin,xmax,ymax))\n",
    "    return bbox"
   ]
  },
  {
   "cell_type": "code",
   "execution_count": 8,
   "id": "ab6947e0",
   "metadata": {},
   "outputs": [],
   "source": [
    "for cls in classes:\n",
    "    org_images = os.path.join(images, cls)\n",
    "    annotations = os.path.join(anotations, cls)\n",
    "    \n",
    "    annotations_files = [files for files in os.listdir(annotations)]\n",
    "    \n",
    "    for i in range(len(annotations_files)):\n",
    "        bbox = get_bounding_boxes(os.path.join(annotations, annotations_files[i]))\n",
    "        dog = os.path.join(org_images, annotations_files[i] + '.jpg')\n",
    "        im = Image.open(dog)\n",
    "        for j in range(len(bbox)):\n",
    "            im2 = im.crop(bbox[j])\n",
    "            im2 = im2.resize((128,128), Image.ANTIALIAS)\n",
    "            new_path = dog.replace('images','Final_Images')\n",
    "            im2 = im2.convert('RGB')\n",
    "            head, tail = os.path.split(new_path)\n",
    "            Path(head).mkdir(parents=True, exist_ok=True)\n",
    "            im2.save(new_path)\n",
    "        \n",
    "        "
   ]
  },
  {
   "cell_type": "code",
   "execution_count": 11,
   "id": "2dd3331a",
   "metadata": {},
   "outputs": [],
   "source": [
    "def angle(dx, dy):\n",
    "    #Calculate the angles between horizontal and vertical operators.\n",
    "    return np.mod(np.arctan2(dy, dx), np.pi)\n",
    "columns = ['bins_' + str(i) for i in range(1, 37)]\n",
    "columns.append('class')\n",
    "classes_df = pd.DataFrame()\n",
    "\n",
    "for k, cls in enumerate(classes):\n",
    "    imgs_filename = os.path.join(CWD, 'Final_images', cls)\n",
    "    img_files = [files for files in os.listdir(imgs_filename)]\n",
    "    image_df = pd.DataFrame()\n",
    "    \n",
    "    for i, img_file in enumerate(img_files):\n",
    "        file_image = os.path.join(imgs_filename, img_file)\n",
    "        color_img = io.imread(file_image)\n",
    "        gray_img = color.rgb2gray(color_img)\n",
    "        angle_sobel = filters.sobel(gray_img)\n",
    "        hist, bins = exposure.histogram(angle_sobel.ravel(), nbins=36)\n",
    "        image_df[f\"{cls}_{i}\"] = pd.Series(hist)\n",
    "    \n",
    "    image_df = image_df.T\n",
    "    image_df['class'] = labels[k]\n",
    "    \n",
    "    # image_df and append it to classes_df\n",
    "    classes_df = pd.concat([classes_df, image_df])\n",
    "\n",
    "classes_df.columns = columns"
   ]
  },
  {
   "cell_type": "code",
   "execution_count": 12,
   "id": "d2361d42",
   "metadata": {},
   "outputs": [],
   "source": [
    "X_classes = classes_df.drop(['class'], axis = 1)\n",
    "Y_labels = classes_df['class']"
   ]
  },
  {
   "cell_type": "markdown",
   "id": "bbb316b4",
   "metadata": {},
   "source": [
    "Normalisation"
   ]
  },
  {
   "cell_type": "code",
   "execution_count": 13,
   "id": "90233be8",
   "metadata": {},
   "outputs": [
    {
     "data": {
      "text/plain": [
       "array([[-7.46259072e-01, -1.12381792e-02,  2.71654209e-02, ...,\n",
       "        -3.19989760e-01, -1.32469796e-01, -7.83457814e-01],\n",
       "       [-4.90786824e-01,  5.30203481e-01,  1.30115660e+00, ...,\n",
       "        -5.75181594e-01, -1.32469796e-01, -7.83457814e-01],\n",
       "       [-2.49912990e-01,  3.95533680e-03,  3.30724294e-01, ...,\n",
       "         9.55969409e-01,  1.01480255e+00, -7.83457814e-01],\n",
       "       ...,\n",
       "       [ 2.49215581e+00, -1.33445530e+00, -2.20769715e+00, ...,\n",
       "         1.21116124e+00,  3.69177137e+00,  1.45049117e+00],\n",
       "       [ 1.96478809e+00, -2.75052866e-01, -2.10730760e+00, ...,\n",
       "         7.84614893e+00,  5.22146784e+00,  1.45049117e+00],\n",
       "       [-9.28739250e-01,  4.95358847e-02,  1.48998456e+00, ...,\n",
       "        -5.75181594e-01, -5.14893912e-01, -7.83457814e-01]])"
      ]
     },
     "execution_count": 13,
     "metadata": {},
     "output_type": "execute_result"
    }
   ],
   "source": [
    "scalar = StandardScaler()\n",
    "classes_df_scalar = scalar.fit_transform(X_classes)\n",
    "classes_df_scalar"
   ]
  },
  {
   "cell_type": "markdown",
   "id": "f4476b61",
   "metadata": {},
   "source": [
    "Dimension Reduction"
   ]
  },
  {
   "cell_type": "code",
   "execution_count": 14,
   "id": "5e26daca",
   "metadata": {},
   "outputs": [
    {
     "data": {
      "text/plain": [
       "array([[ 0.99339085, -3.13842083],\n",
       "       [ 0.98002545,  0.6697875 ],\n",
       "       [-3.45109826,  0.33316228],\n",
       "       ...,\n",
       "       [-0.36153128,  3.77824743],\n",
       "       [ 6.26178181, 10.38199208],\n",
       "       [-3.40924593, -1.19466931]])"
      ]
     },
     "execution_count": 14,
     "metadata": {},
     "output_type": "execute_result"
    }
   ],
   "source": [
    "pca = PCA(n_components = 2)\n",
    "pca_class_hist = pca.fit_transform(classes_df_scalar)\n",
    "pca_class_hist"
   ]
  },
  {
   "cell_type": "markdown",
   "id": "ed09dffd",
   "metadata": {},
   "source": [
    "Clustering Algorithm"
   ]
  },
  {
   "cell_type": "code",
   "execution_count": 15,
   "id": "374d882b",
   "metadata": {},
   "outputs": [],
   "source": [
    "kmeans_rand = KMeans(n_clusters = 4, random_state = 42, init = 'random').fit(pca_class_hist)\n",
    "y_hat_kmeans = kmeans_rand.predict(pca_class_hist)"
   ]
  },
  {
   "cell_type": "code",
   "execution_count": 16,
   "id": "154706d2",
   "metadata": {},
   "outputs": [],
   "source": [
    "kmeans_km = KMeans(n_clusters = 4, random_state = 42, init = 'k-means++').fit(pca_class_hist)\n",
    "y_hat_kmeans_km = kmeans_km.predict(pca_class_hist)"
   ]
  },
  {
   "cell_type": "code",
   "execution_count": 17,
   "id": "e2a7c7f7",
   "metadata": {},
   "outputs": [],
   "source": [
    "bisect_means = BisectingKMeans(n_clusters = 4, random_state = 42, init = 'random').fit(pca_class_hist)\n",
    "y_hat_bisect_means = bisect_means.predict(pca_class_hist)"
   ]
  },
  {
   "cell_type": "code",
   "execution_count": 18,
   "id": "2da307f6",
   "metadata": {},
   "outputs": [],
   "source": [
    "y_hat_spectral_cluster = SpectralClustering(n_clusters = 4, random_state = 0, assign_labels = 'kmeans').fit_predict(pca_class_hist)"
   ]
  },
  {
   "cell_type": "code",
   "execution_count": 19,
   "id": "93ea965e",
   "metadata": {},
   "outputs": [],
   "source": [
    "dbscan = DBSCAN(eps = 1, min_samples = 5).fit(pca_class_hist)\n",
    "y_hat_dbscan = DBSCAN(eps = 1, min_samples = 5).fit_predict(pca_class_hist)"
   ]
  },
  {
   "cell_type": "code",
   "execution_count": 20,
   "id": "7f767c7f",
   "metadata": {},
   "outputs": [
    {
     "name": "stdout",
     "output_type": "stream",
     "text": [
      "{0, 1, 2, -1}\n",
      "Got 4 clusters for eps = 1, min_samples = 5\n"
     ]
    }
   ],
   "source": [
    "k = dbscan.labels_\n",
    "print(set(list(k)))\n",
    "print('Got 4 clusters for eps = 1, min_samples = 5')"
   ]
  },
  {
   "cell_type": "code",
   "execution_count": 21,
   "id": "57ce9e0a",
   "metadata": {},
   "outputs": [],
   "source": [
    "y_hat_agg_cluster_single = AgglomerativeClustering(n_clusters = 4, linkage = 'single').fit_predict(pca_class_hist)"
   ]
  },
  {
   "cell_type": "code",
   "execution_count": 22,
   "id": "a62ebef2",
   "metadata": {},
   "outputs": [],
   "source": [
    "y_hat_agg_cluster_complete = AgglomerativeClustering(n_clusters = 4, linkage = 'complete').fit_predict(pca_class_hist)"
   ]
  },
  {
   "cell_type": "code",
   "execution_count": 23,
   "id": "d12f1d1f",
   "metadata": {},
   "outputs": [],
   "source": [
    "y_hat_agg_cluster_average = AgglomerativeClustering(n_clusters = 4, linkage = 'average').fit_predict(pca_class_hist)"
   ]
  },
  {
   "cell_type": "code",
   "execution_count": 24,
   "id": "3b7e91bf",
   "metadata": {},
   "outputs": [],
   "source": [
    "y_hat_agg_cluster_ward = AgglomerativeClustering(n_clusters = 4, linkage = 'ward').fit_predict(pca_class_hist)"
   ]
  },
  {
   "cell_type": "markdown",
   "id": "adeec4af",
   "metadata": {},
   "source": [
    "Clustering Evaluations"
   ]
  },
  {
   "cell_type": "code",
   "execution_count": 25,
   "id": "f447b6f0",
   "metadata": {},
   "outputs": [],
   "source": [
    "fw_mallows_s = dict()\n",
    "silhouette_s = dict()"
   ]
  },
  {
   "cell_type": "code",
   "execution_count": 26,
   "id": "ab71ab7f",
   "metadata": {},
   "outputs": [],
   "source": [
    "fw_mallows_s['kmeans'] = fowlkes_mallows_score(Y_labels, y_hat_kmeans)\n",
    "fw_mallows_s['kmeans_km'] = fowlkes_mallows_score(Y_labels, y_hat_kmeans_km)\n",
    "fw_mallows_s['bisect_means'] = fowlkes_mallows_score(Y_labels, y_hat_bisect_means)\n",
    "fw_mallows_s['spectral_cluster'] = fowlkes_mallows_score(Y_labels, y_hat_spectral_cluster)\n",
    "fw_mallows_s['dbscan'] = fowlkes_mallows_score(Y_labels, y_hat_dbscan)\n",
    "fw_mallows_s['agg_cluster_single'] = fowlkes_mallows_score(Y_labels, y_hat_agg_cluster_single)\n",
    "fw_mallows_s['agg_cluster_complete'] = fowlkes_mallows_score(Y_labels, y_hat_agg_cluster_complete)\n",
    "fw_mallows_s['agg_cluster_average'] = fowlkes_mallows_score(Y_labels, y_hat_agg_cluster_average)\n",
    "fw_mallows_s['agg_cluster_ward'] = fowlkes_mallows_score(Y_labels, y_hat_agg_cluster_ward)"
   ]
  },
  {
   "cell_type": "code",
   "execution_count": 27,
   "id": "9853cdc3",
   "metadata": {},
   "outputs": [],
   "source": [
    "silhouette_s['kmeans'] = silhouette_score(pca_class_hist, y_hat_kmeans)\n",
    "silhouette_s['kmeans_km'] = silhouette_score(pca_class_hist, y_hat_kmeans_km)\n",
    "silhouette_s['bisect_means'] = silhouette_score(pca_class_hist, y_hat_bisect_means)\n",
    "silhouette_s['spectral_cluster'] = silhouette_score(pca_class_hist, y_hat_spectral_cluster)\n",
    "silhouette_s['dbscan'] = silhouette_score(pca_class_hist, y_hat_dbscan)\n",
    "silhouette_s['agg_cluster_single'] = silhouette_score(pca_class_hist, y_hat_agg_cluster_single)\n",
    "silhouette_s['agg_cluster_complete'] = silhouette_score(pca_class_hist, y_hat_agg_cluster_complete)\n",
    "silhouette_s['agg_cluster_average'] = silhouette_score(pca_class_hist, y_hat_agg_cluster_average)\n",
    "silhouette_s['agg_cluster_ward'] = silhouette_score(pca_class_hist, y_hat_agg_cluster_ward)"
   ]
  },
  {
   "cell_type": "code",
   "execution_count": 28,
   "id": "8c9a3d49",
   "metadata": {},
   "outputs": [
    {
     "name": "stdout",
     "output_type": "stream",
     "text": [
      "Rank the methods from the best to the worst for our dataset based on Fowlkes-Mallows index\n"
     ]
    },
    {
     "data": {
      "text/plain": [
       "[('agg_cluster_single', 0.49801016022991496),\n",
       " ('agg_cluster_average', 0.4923413576569239),\n",
       " ('agg_cluster_complete', 0.44707967676264343),\n",
       " ('dbscan', 0.4405931816667445),\n",
       " ('spectral_cluster', 0.3547021213160434),\n",
       " ('agg_cluster_ward', 0.30685568140407654),\n",
       " ('kmeans', 0.2916648944211357),\n",
       " ('kmeans_km', 0.2913850727152853),\n",
       " ('bisect_means', 0.26745335059106)]"
      ]
     },
     "execution_count": 28,
     "metadata": {},
     "output_type": "execute_result"
    }
   ],
   "source": [
    "sorted_fw_mallows_s = sorted(fw_mallows_s.items(), key = lambda x: x[1], reverse = True)\n",
    "print('Rank the methods from the best to the worst for our dataset based on Fowlkes-Mallows index')\n",
    "sorted_fw_mallows_s"
   ]
  },
  {
   "cell_type": "code",
   "execution_count": 29,
   "id": "83a2ddbb",
   "metadata": {},
   "outputs": [
    {
     "name": "stdout",
     "output_type": "stream",
     "text": [
      "Rank the methods from the best to the worst for our dataset based on Silhouette Coefficient.\n"
     ]
    },
    {
     "data": {
      "text/plain": [
       "[('agg_cluster_single', 0.6350983170004747),\n",
       " ('agg_cluster_average', 0.5898777583433918),\n",
       " ('agg_cluster_complete', 0.41825022232708137),\n",
       " ('kmeans_km', 0.34140114281117995),\n",
       " ('kmeans', 0.3402665320034286),\n",
       " ('agg_cluster_ward', 0.32373503469162207),\n",
       " ('bisect_means', 0.2933773185734149),\n",
       " ('dbscan', 0.22234676809070125),\n",
       " ('spectral_cluster', -0.0029715359883426182)]"
      ]
     },
     "execution_count": 29,
     "metadata": {},
     "output_type": "execute_result"
    }
   ],
   "source": [
    "sorted_silhouette_s = sorted(silhouette_s.items(), key = lambda x: x[1], reverse = True)\n",
    "print('Rank the methods from the best to the worst for our dataset based on Silhouette Coefficient.')\n",
    "sorted_silhouette_s"
   ]
  },
  {
   "cell_type": "code",
   "execution_count": null,
   "id": "e19bad24",
   "metadata": {},
   "outputs": [],
   "source": []
  }
 ],
 "metadata": {
  "kernelspec": {
   "display_name": "Python 3 (ipykernel)",
   "language": "python",
   "name": "python3"
  },
  "language_info": {
   "codemirror_mode": {
    "name": "ipython",
    "version": 3
   },
   "file_extension": ".py",
   "mimetype": "text/x-python",
   "name": "python",
   "nbconvert_exporter": "python",
   "pygments_lexer": "ipython3",
   "version": "3.9.18"
  }
 },
 "nbformat": 4,
 "nbformat_minor": 5
}
